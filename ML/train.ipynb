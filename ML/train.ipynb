{
 "cells": [
  {
   "cell_type": "code",
   "execution_count": 1,
   "id": "2c761ed1",
   "metadata": {},
   "outputs": [],
   "source": [
    "import pandas as pd\n",
    "from sklearn.feature_extraction.text import TfidfVectorizer\n",
    "from sklearn.linear_model import LogisticRegression\n",
    "from sklearn.preprocessing import LabelEncoder\n",
    "from sklearn.model_selection import train_test_split\n",
    "from sklearn.metrics import classification_report, accuracy_score\n",
    "import joblib\n",
    "import os\n",
    "import re"
   ]
  },
  {
   "cell_type": "code",
   "execution_count": 2,
   "id": "7ec09e12",
   "metadata": {},
   "outputs": [],
   "source": [
    "TRAINING_DATA_PATH = \"data/training_data_combined.csv\"\n",
    "MODEL_DIR = \"./trained_model\"\n",
    "\n",
    "os.makedirs(MODEL_DIR, exist_ok=True)"
   ]
  },
  {
   "cell_type": "code",
   "execution_count": 3,
   "id": "7c705a26",
   "metadata": {},
   "outputs": [
    {
     "name": "stdout",
     "output_type": "stream",
     "text": [
      "Initial size: 222606 rows\n",
      "After cleaning: 222606 rows\n"
     ]
    }
   ],
   "source": [
    "def clean_text(text):\n",
    "    text = text.lower()\n",
    "    text = re.sub(r\"[^\\w\\s]\", \"\", text)\n",
    "    text = re.sub(r\"\\s+\", \" \", text).strip()\n",
    "    return text\n",
    "\n",
    "df= pd.read_csv(TRAINING_DATA_PATH)\n",
    "\n",
    "df = df.dropna(subset=[\"text\", \"issue_resolve_time_label\"])\n",
    "print(f\"Initial size: {len(df)} rows\")\n",
    "\n",
    "df[\"clean_text\"] = df[\"text\"].apply(clean_text)\n",
    "\n",
    "df = df[df[\"clean_text\"].str.strip() != \"\"]\n",
    "print(f\"After cleaning: {len(df)} rows\")"
   ]
  },
  {
   "cell_type": "code",
   "execution_count": 9,
   "id": "1223a043",
   "metadata": {},
   "outputs": [
    {
     "name": "stdout",
     "output_type": "stream",
     "text": [
      "Encoding labels...\n",
      "Splitting data...\n",
      "Vectorizing text...\n",
      "Training Logistic Regression...\n",
      "Accuracy: 0.32884865908988814\n",
      "Classification Report:\n",
      "                    precision    recall  f1-score   support\n",
      "\n",
      "        1-4 weeks       0.22      0.19      0.20      6364\n",
      "        1-6 hours       0.24      0.03      0.05      3409\n",
      "       1-6 months       0.24      0.33      0.28      6922\n",
      "         1-7 days       0.24      0.39      0.30      7943\n",
      "6 months - 1 year       0.44      0.09      0.15      2396\n",
      "       6-24 hours       0.18      0.04      0.07      3714\n",
      "          <1 hour       0.55      0.67      0.60      9887\n",
      "          >1 year       0.33      0.23      0.27      3887\n",
      "\n",
      "         accuracy                           0.33     44522\n",
      "        macro avg       0.31      0.25      0.24     44522\n",
      "     weighted avg       0.32      0.33      0.30     44522\n",
      "\n",
      "Saving model artifacts to: ./trained_model\n",
      "Training complete. All artifacts saved.\n"
     ]
    }
   ],
   "source": [
    "print(\"Encoding labels...\")\n",
    "label_encoder = LabelEncoder()\n",
    "df[\"label\"] = label_encoder.fit_transform(df[\"issue_resolve_time_label\"])\n",
    "\n",
    "print(\"Splitting data...\")\n",
    "X_train, X_test, y_train, y_test = train_test_split(\n",
    "    df[\"clean_text\"], df[\"label\"], test_size=0.2, stratify=df[\"label\"], random_state=42\n",
    ")\n",
    "\n",
    "print(\"Vectorizing text...\")\n",
    "tfidf = TfidfVectorizer(max_features=10000, stop_words=\"english\")\n",
    "X_train_vec = tfidf.fit_transform(X_train)\n",
    "X_test_vec = tfidf.transform(X_test)\n",
    "\n",
    "print(\"Training Logistic Regression...\")\n",
    "clf = LogisticRegression(max_iter=500)\n",
    "clf.fit(X_train_vec, y_train)\n",
    "\n",
    "y_pred = clf.predict(X_test_vec)\n",
    "print(\"Accuracy:\", accuracy_score(y_test, y_pred))\n",
    "print(\"Classification Report:\\n\", classification_report(y_test, y_pred, target_names=label_encoder.classes_))\n",
    "\n",
    "print(\"Saving model artifacts to:\", MODEL_DIR)\n",
    "joblib.dump(clf, os.path.join(MODEL_DIR, \"classifier.pkl\"))\n",
    "joblib.dump(tfidf, os.path.join(MODEL_DIR, \"tfidf.pkl\"))\n",
    "joblib.dump(label_encoder, os.path.join(MODEL_DIR, \"label_encoder.pkl\"))\n",
    "\n",
    "print(\"Training complete. All artifacts saved.\")"
   ]
  },
  {
   "cell_type": "code",
   "execution_count": null,
   "id": "aceccd4a",
   "metadata": {},
   "outputs": [],
   "source": []
  }
 ],
 "metadata": {
  "kernelspec": {
   "display_name": "ds598venv",
   "language": "python",
   "name": "python3"
  },
  "language_info": {
   "codemirror_mode": {
    "name": "ipython",
    "version": 3
   },
   "file_extension": ".py",
   "mimetype": "text/x-python",
   "name": "python",
   "nbconvert_exporter": "python",
   "pygments_lexer": "ipython3",
   "version": "3.10.16"
  }
 },
 "nbformat": 4,
 "nbformat_minor": 5
}
